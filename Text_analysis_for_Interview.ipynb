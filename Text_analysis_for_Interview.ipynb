{
  "nbformat": 4,
  "nbformat_minor": 0,
  "metadata": {
    "colab": {
      "private_outputs": true,
      "provenance": [],
      "mount_file_id": "1iRlO-iE7OCg-Xm-sTIwSfDFZ-Eo1UsMi",
      "authorship_tag": "ABX9TyOgm0whL3/jECg62TCg0Kr+",
      "include_colab_link": true
    },
    "kernelspec": {
      "name": "python3",
      "display_name": "Python 3"
    },
    "language_info": {
      "name": "python"
    }
  },
  "cells": [
    {
      "cell_type": "markdown",
      "metadata": {
        "id": "view-in-github",
        "colab_type": "text"
      },
      "source": [
        "<a href=\"https://colab.research.google.com/github/Rajat-Yd/Text_analysis.repo/blob/main/Text_analysis_for_Interview.ipynb\" target=\"_parent\"><img src=\"https://colab.research.google.com/assets/colab-badge.svg\" alt=\"Open In Colab\"/></a>"
      ]
    },
    {
      "cell_type": "code",
      "source": [
        "!python -m spacy download en_core_web_sm # Download a small English language model"
      ],
      "metadata": {
        "id": "kozFO7BEyHz3"
      },
      "execution_count": null,
      "outputs": []
    },
    {
      "cell_type": "code",
      "source": [
        "import textblob\n",
        "import spacy\n",
        "from spacy.lang.en import English\n",
        "\n",
        "nlp = spacy.load(\"en_core_web_sm\") # Load the downloaded model\n",
        "\n",
        "def analyze_response(text):\n",
        "  \"\"\"\n",
        "  Analyzes a text response using TextBlob and spaCy.\n",
        "\n",
        "  Args:\n",
        "      text (str): The text of the interview response.\n",
        "\n",
        "  Returns:\n",
        "      dict: A dictionary containing sentiment, key phrases, and overall assessment.\n",
        "  \"\"\"\n",
        "  # Perform sentiment analysis\n",
        "  blob = textblob.TextBlob(text)\n",
        "  sentiment = \"positive\" if blob.sentiment.polarity > 0 else (\"negative\" if blob.sentiment.polarity < 0 else \"neutral\")\n",
        "\n",
        "  # Extract key phrases\n",
        "  doc = nlp(text)\n",
        "  key_phrases = [chunk.text for chunk in doc.noun_chunks]  # Adjust for desired phrase types\n",
        "\n",
        "  # Overall assessment (basic example)\n",
        "  assessment = f\"Sentiment: {sentiment}. Key phrases: {', '.join(key_phrases)}\"\n",
        "\n",
        "  return {\"text\": text, \"sentiment\": sentiment, \"key_phrases\": key_phrases, \"assessment\": assessment}\n",
        "\n",
        "# Read responses from file (Assuming the file exists and is accessible)\n",
        "with open(\"/content/Hello/interview_responses.txt\", \"r\") as f:\n",
        "  responses = f.readlines()\n",
        "\n",
        "# Analyze each response\n",
        "results = [analyze_response(response.strip()) for response in responses]\n",
        "\n",
        "print(results) # Print the results"
      ],
      "metadata": {
        "id": "K3vqcj-Lx9o5"
      },
      "execution_count": null,
      "outputs": []
    }
  ]
}